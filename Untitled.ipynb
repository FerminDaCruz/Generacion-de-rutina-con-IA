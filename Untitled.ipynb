{
 "cells": [
  {
   "cell_type": "markdown",
   "id": "367540ca-15c4-4f3c-aa8d-ac109f6c5aa2",
   "metadata": {
    "panel-layout": {
     "height": 51.1406,
     "visible": true,
     "width": 100
    }
   },
   "source": [
    "# Trabajo Final: Generación de rutinas de entrenamiento \n",
    "\n",
    "## Resumen\n",
    "\n",
    "El objetivo del proyecto es desarrollar un sistema que genere rutinas de entrenamiento basado en el contexto y objetivo de la persona que utilice el mismo. Se utilizará la API de OpenAI para GPT-4 para generar una descripción textual de la rutina.\n",
    "\n",
    "## Índice\n",
    "    1. Introducción\n",
    "    2. Objetivos \n",
    "    3. Metodologías\n",
    "    4. Herramientas y Tecnologías\n",
    "    5. Implementación\n",
    "    6. Resultados\n",
    "    7. Conclusiones\n",
    "    8. Referencias\n",
    "\n",
    "###   1. Introducción\n",
    "    En la actualidad, la personalización en el ámbito del fitness es una tendencia creciente. Las rutinas de entrenamiento personalizadas permiten a las personas alcanzar sus objetivos de manera más eficiente y segura. El problema que aborda este proyecto es la falta de herramientas accesibles y personalizadas para la generación de rutinas de entrenamiento. El alcance del proyecto incluye la creación de un sistema automatizado que pueda ser utilizado por personas de diversos niveles de experiencia y con distintos objetivos de entrenamiento.\n",
    "\n",
    "###   2. Objetivos\n",
    "    El objetivo principal del proyecto es generar una descripcion textual de la rutina de entrenamiento.\n",
    "\n",
    "###   2. Metodologías\n",
    "    Para llevar a cabo este proyecto, se seguirán los siguientes pasos metodológicos:\n",
    "\n",
    "####    Recopilación de Datos:\n",
    "    Obtener información relevante sobre la persona, incluyendo descripción, peso, altura, objetivo, edad, nivel de experiencia y cualquier otra información pertinente que pueda influir en la creación de la rutina de entrenamiento.\n",
    "    \n",
    "####    Procesamiento de Texto:\n",
    "    Utilizar la API de OpenAI para GPT-4 para generar una descripción textual de la rutina de entrenamiento basada en los datos recopilados. La capacidad de GPT-4 para comprender y generar texto coherente y contextualizado se aprovechará para proporcionar descripciones detalladas y personalizadas de las rutinas de entrenamiento.\n"
   ]
  },
  {
   "cell_type": "code",
   "execution_count": null,
   "id": "4b907694-5b12-4712-805d-4d2d670b2520",
   "metadata": {},
   "outputs": [],
   "source": []
  }
 ],
 "metadata": {
  "kernelspec": {
   "display_name": "Python 3 (ipykernel)",
   "language": "python",
   "name": "python3"
  },
  "language_info": {
   "codemirror_mode": {
    "name": "ipython",
    "version": 3
   },
   "file_extension": ".py",
   "mimetype": "text/x-python",
   "name": "python",
   "nbconvert_exporter": "python",
   "pygments_lexer": "ipython3",
   "version": "3.12.4"
  },
  "panel-cell-order": [
   "367540ca-15c4-4f3c-aa8d-ac109f6c5aa2"
  ]
 },
 "nbformat": 4,
 "nbformat_minor": 5
}
